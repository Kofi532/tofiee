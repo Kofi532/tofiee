{
 "cells": [
  {
   "cell_type": "code",
   "execution_count": 22,
   "metadata": {},
   "outputs": [
    {
     "name": "stdout",
     "output_type": "stream",
     "text": [
      "['AHANTA WEST MUNICIPAL', 'AMENFI CENTRAL DISTRICT', 'WASSA AMENFI EAST MUNICIPAL', 'AMENFI WEST MUNICIPAL', 'EFFIA KWESIMINTSIM MUNICIPAL', 'ELLEMBELLE DISTRICT', 'JOMORO MUNICIPAL', 'MPOHOR DISTRICT', 'NZEMA EAST MUNICIPAL', 'PRESTEA HUNI-VALLEY MUNICIPAL', 'SEKONDI-TAKORADI METROPOLITAN', 'SHAMA DISTRICT', 'TARKWA NUSAEM MUNICIPAL', 'WASSA EAST DISTRICT']\n"
     ]
    }
   ],
   "source": [
    "districts_string = \"[AHANTA WEST MUNICIPAL,AMENFI CENTRAL DISTRICT,WASSA AMENFI EAST MUNICIPAL,AMENFI WEST MUNICIPAL,EFFIA KWESIMINTSIM MUNICIPAL,ELLEMBELLE DISTRICT,JOMORO MUNICIPAL,MPOHOR DISTRICT,NZEMA EAST MUNICIPAL,PRESTEA HUNI-VALLEY MUNICIPAL,SEKONDI-TAKORADI METROPOLITAN,SHAMA DISTRICT,TARKWA NUSAEM MUNICIPAL,WASSA EAST DISTRICT]\"\n",
    "\n",
    "# Remove brackets and split the string into a list\n",
    "districts_list = districts_string[1:-1].split(\",\")\n",
    "\n",
    "# Print the resulting list of districts\n",
    "print(districts_list)"
   ]
  },
  {
   "cell_type": "code",
   "execution_count": 41,
   "metadata": {},
   "outputs": [],
   "source": [
    "input_string = \"hello\"\n",
    "\n",
    "# Split the string into words using the hyphen as the separator\n",
    "            words = city.split()\n",
    "            capitalized_city = [word.capitalize() for word in words]\n",
    "            capitalized_string = ' '.join(capitalized_city)"
   ]
  },
  {
   "cell_type": "code",
   "execution_count": 42,
   "metadata": {},
   "outputs": [],
   "source": [
    "output_string = ' '.join(capitalized_words)"
   ]
  },
  {
   "cell_type": "code",
   "execution_count": 44,
   "metadata": {},
   "outputs": [
    {
     "data": {
      "text/plain": [
       "'Bono East'"
      ]
     },
     "execution_count": 44,
     "metadata": {},
     "output_type": "execute_result"
    }
   ],
   "source": [
    "city = 'bono east'         \n",
    "words = city.split()\n",
    "capitalized_city = [word.capitalize() for word in words]\n",
    "capitalized_string = ' '.join(capitalized_city)\n",
    "capitalized_string"
   ]
  },
  {
   "cell_type": "code",
   "execution_count": 33,
   "metadata": {},
   "outputs": [
    {
     "name": "stdout",
     "output_type": "stream",
     "text": [
      "(\"a\",\"n\"),\n",
      "(\"b\",\"m\"),\n",
      "(\"c\",\"x\"),\n"
     ]
    }
   ],
   "source": [
    "li = []\n",
    "a = ['a','b','c']\n",
    "b = ['n','m','x']\n",
    "for i, j in zip(a, b):\n",
    "    print('(\"'+i+'\",'+'\"'+j+'\"),')"
   ]
  },
  {
   "cell_type": "code",
   "execution_count": null,
   "metadata": {},
   "outputs": [],
   "source": []
  }
 ],
 "metadata": {
  "kernelspec": {
   "display_name": "esenv",
   "language": "python",
   "name": "python3"
  },
  "language_info": {
   "codemirror_mode": {
    "name": "ipython",
    "version": 3
   },
   "file_extension": ".py",
   "mimetype": "text/x-python",
   "name": "python",
   "nbconvert_exporter": "python",
   "pygments_lexer": "ipython3",
   "version": "3.9.13"
  },
  "orig_nbformat": 4
 },
 "nbformat": 4,
 "nbformat_minor": 2
}
